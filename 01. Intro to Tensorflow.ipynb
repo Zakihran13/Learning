{
 "cells": [
  {
   "cell_type": "markdown",
   "metadata": {},
   "source": [
    "# Intro to Tensorflow"
   ]
  },
  {
   "cell_type": "code",
   "execution_count": 1,
   "metadata": {},
   "outputs": [],
   "source": [
    "import tensorflow as tf\n",
    "import numpy as np\n",
    "import mitdeeplearning as mdl\n",
    "import matplotlib.pyplot as plt"
   ]
  },
  {
   "cell_type": "code",
   "execution_count": 2,
   "metadata": {},
   "outputs": [
    {
     "name": "stdout",
     "output_type": "stream",
     "text": [
      "'music' is a 0-d Tensor\n",
      "'depth' is a 0-d Tensor\n"
     ]
    }
   ],
   "source": [
    "# testing on 0-d tensor\n",
    "\n",
    "music = tf.constant(\"kpop\", tf.string)\n",
    "depth = tf.constant(11.24325, tf.float16)\n",
    "\n",
    "print(\"'music' is a {}-d Tensor\".format(tf.rank(music).numpy()))\n",
    "print(\"'depth' is a {}-d Tensor\".format(tf.rank(depth).numpy()))"
   ]
  },
  {
   "cell_type": "code",
   "execution_count": 3,
   "metadata": {},
   "outputs": [
    {
     "name": "stdout",
     "output_type": "stream",
     "text": [
      "'music' is a 1-d Tensor with shape:  tf.Tensor([2], shape=(1,), dtype=int32)\n",
      "'depth' is a 1-d Tensor with shape:  tf.Tensor([2], shape=(1,), dtype=int32)\n"
     ]
    }
   ],
   "source": [
    "# testing 1-d tensor\n",
    "music = tf.constant([\"kpop\", \"jrock\"], tf.string)\n",
    "depth = tf.constant([11.24325, 222.21412], tf.float16)\n",
    "\n",
    "print(\"'music' is a {}-d Tensor with shape: \".format(tf.rank(music).numpy()), tf.shape(music))\n",
    "print(\"'depth' is a {}-d Tensor with shape: \".format(tf.rank(depth).numpy()), tf.shape(depth))"
   ]
  },
  {
   "cell_type": "code",
   "execution_count": 4,
   "metadata": {},
   "outputs": [],
   "source": [
    "# testing 2-d tensor\n",
    "\n",
    "matrix = tf.constant([[2,3],\n",
    "                    [3,5]])\n",
    "\n",
    "# test\n",
    "assert isinstance(matrix, tf.Tensor), \"matrix must be a tf Tensor object\"\n",
    "assert tf.rank(matrix).numpy() == 2"
   ]
  },
  {
   "cell_type": "code",
   "execution_count": 5,
   "metadata": {},
   "outputs": [],
   "source": [
    "'''TODO: Define a 4-d Tensor.'''\n",
    "# Use tf.zeros to initialize a 4-d Tensor of zeros with size 10 x 256 x 256 x 3. \n",
    "#   You can think of this as 10 images where each image is RGB 256 x 256.\n",
    "images = tf.zeros([10, 256, 256, 3]) # [number_of_images, pixel_h, pixel_w, channels]\n",
    "\n",
    "assert isinstance(images, tf.Tensor), \"matrix must be a tf Tensor object\"\n",
    "assert tf.rank(images).numpy() == 4, \"matrix must be of rank 4\"\n",
    "assert tf.shape(images).numpy().tolist() == [10, 256, 256, 3], \"matrix is incorrect shape\""
   ]
  },
  {
   "cell_type": "code",
   "execution_count": 6,
   "metadata": {},
   "outputs": [
    {
     "data": {
      "text/plain": [
       "TensorShape([10, 256, 256, 3])"
      ]
     },
     "execution_count": 6,
     "metadata": {},
     "output_type": "execute_result"
    }
   ],
   "source": [
    "images.shape"
   ]
  },
  {
   "cell_type": "code",
   "execution_count": 7,
   "metadata": {},
   "outputs": [
    {
     "name": "stdout",
     "output_type": "stream",
     "text": [
      "row vector: [3 5]\n",
      "column vector: [2 3]\n",
      "scalar: 5\n"
     ]
    }
   ],
   "source": [
    "row_vector = matrix[1]\n",
    "column_vector = matrix[:,0]\n",
    "scalar = matrix[1,1]\n",
    "\n",
    "print(\"row vector: {}\".format(row_vector.numpy()))\n",
    "print(\"column vector: {}\".format(column_vector.numpy()))\n",
    "print(\"scalar: {}\".format(scalar.numpy()))"
   ]
  },
  {
   "cell_type": "markdown",
   "metadata": {},
   "source": [
    "# Computation on Tensors"
   ]
  },
  {
   "cell_type": "code",
   "execution_count": 8,
   "metadata": {},
   "outputs": [
    {
     "name": "stdout",
     "output_type": "stream",
     "text": [
      "tf.Tensor(76, shape=(), dtype=int32)\n",
      "tf.Tensor(76, shape=(), dtype=int32)\n"
     ]
    }
   ],
   "source": [
    "a = tf.constant(15)\n",
    "b = tf.constant(61)\n",
    "\n",
    "# addition\n",
    "c1 = tf.add(a,b)\n",
    "c2 = a + b\n",
    "print(c1)\n",
    "print(c2)"
   ]
  },
  {
   "cell_type": "code",
   "execution_count": 9,
   "metadata": {},
   "outputs": [],
   "source": [
    "# constract simple computation\n",
    "\n",
    "def func(a,b):\n",
    "    c = tf.add(tf.multiply(a,b), tf.subtract(b, a))\n",
    "    d = tf.multiply(tf.add(c, a), tf.multiply(b, c))\n",
    "    return d\n"
   ]
  },
  {
   "cell_type": "code",
   "execution_count": 10,
   "metadata": {},
   "outputs": [
    {
     "name": "stdout",
     "output_type": "stream",
     "text": [
      "tf.Tensor(1007616660000.0, shape=(), dtype=float32)\n"
     ]
    }
   ],
   "source": [
    "a, b = 45.9, 771.2\n",
    "\n",
    "d_out = func(a, b)\n",
    "print(d_out)"
   ]
  },
  {
   "cell_type": "markdown",
   "metadata": {},
   "source": [
    "# Neural Network in Tensorflow"
   ]
  },
  {
   "cell_type": "code",
   "execution_count": 11,
   "metadata": {},
   "outputs": [
    {
     "name": "stdout",
     "output_type": "stream",
     "text": [
      "[PhysicalDevice(name='/physical_device:GPU:0', device_type='GPU')]\n"
     ]
    }
   ],
   "source": [
    "print(tf.config.list_physical_devices('GPU'))"
   ]
  },
  {
   "cell_type": "code",
   "execution_count": 23,
   "metadata": {},
   "outputs": [
    {
     "name": "stdout",
     "output_type": "stream",
     "text": [
      "[[0.2697296 0.4574668 0.6653726]]\n"
     ]
    },
    {
     "ename": "AssertionError",
     "evalue": "\nArrays are not almost equal to 7 decimals\n[FAIL] output is of incorrect value. expected [[0.2697296 0.4574668 0.6653726]] but got [[0.2697859  0.45750418 0.66536945]]\nMismatched elements: 3 / 3 (100%)\nMax absolute difference: 5.6296587e-05\nMax relative difference: 0.00020867\n x: array([[0.2697296, 0.4574668, 0.6653726]], dtype=float32)\n y: array([[0.2697859, 0.4575042, 0.6653695]], dtype=float32)",
     "output_type": "error",
     "traceback": [
      "\u001b[1;31m---------------------------------------------------------------------------\u001b[0m",
      "\u001b[1;31mAssertionError\u001b[0m                            Traceback (most recent call last)",
      "\u001b[1;32ms:\\( F I X E D   P R O J E C T )\\004. Learning\\001. Intro to Deep Learning\\01. Intro to Tensorflow.ipynb Cell 15\u001b[0m in \u001b[0;36m<cell line: 23>\u001b[1;34m()\u001b[0m\n\u001b[0;32m     <a href='vscode-notebook-cell:/s%3A/%28%20F%20I%20X%20E%20D%20%20%20P%20R%20O%20J%20E%20C%20T%20%29/004.%20Learning/001.%20Intro%20to%20Deep%20Learning/01.%20Intro%20to%20Tensorflow.ipynb#ch0000014?line=19'>20</a>\u001b[0m y \u001b[39m=\u001b[39m layer\u001b[39m.\u001b[39mcall(x_input)\n\u001b[0;32m     <a href='vscode-notebook-cell:/s%3A/%28%20F%20I%20X%20E%20D%20%20%20P%20R%20O%20J%20E%20C%20T%20%29/004.%20Learning/001.%20Intro%20to%20Deep%20Learning/01.%20Intro%20to%20Tensorflow.ipynb#ch0000014?line=21'>22</a>\u001b[0m \u001b[39mprint\u001b[39m(y\u001b[39m.\u001b[39mnumpy())\n\u001b[1;32m---> <a href='vscode-notebook-cell:/s%3A/%28%20F%20I%20X%20E%20D%20%20%20P%20R%20O%20J%20E%20C%20T%20%29/004.%20Learning/001.%20Intro%20to%20Deep%20Learning/01.%20Intro%20to%20Tensorflow.ipynb#ch0000014?line=22'>23</a>\u001b[0m mdl\u001b[39m.\u001b[39;49mlab1\u001b[39m.\u001b[39;49mtest_custom_dense_layer_output(y)\n",
      "File \u001b[1;32mc:\\Users\\zakis\\anaconda3\\envs\\tf1\\lib\\site-packages\\mitdeeplearning\\lab1.py:85\u001b[0m, in \u001b[0;36mtest_custom_dense_layer_output\u001b[1;34m(y)\u001b[0m\n\u001b[0;32m     83\u001b[0m true_y \u001b[39m=\u001b[39m np\u001b[39m.\u001b[39marray([[\u001b[39m0.2697859\u001b[39m,  \u001b[39m0.45750418\u001b[39m, \u001b[39m0.66536945\u001b[39m]],dtype\u001b[39m=\u001b[39m\u001b[39m'\u001b[39m\u001b[39mfloat32\u001b[39m\u001b[39m'\u001b[39m)\n\u001b[0;32m     84\u001b[0m \u001b[39massert\u001b[39;00m tf\u001b[39m.\u001b[39mshape(y)\u001b[39m.\u001b[39mnumpy()\u001b[39m.\u001b[39mtolist() \u001b[39m==\u001b[39m \u001b[39mlist\u001b[39m(true_y\u001b[39m.\u001b[39mshape), \u001b[39m\"\u001b[39m\u001b[39m[FAIL] output is of incorrect shape. expected \u001b[39m\u001b[39m{}\u001b[39;00m\u001b[39m but got \u001b[39m\u001b[39m{}\u001b[39;00m\u001b[39m\"\u001b[39m\u001b[39m.\u001b[39mformat(true_y\u001b[39m.\u001b[39mshape, y\u001b[39m.\u001b[39mnumpy()\u001b[39m.\u001b[39mshape)\n\u001b[1;32m---> 85\u001b[0m np\u001b[39m.\u001b[39;49mtesting\u001b[39m.\u001b[39;49massert_almost_equal(y\u001b[39m.\u001b[39;49mnumpy(), true_y, decimal\u001b[39m=\u001b[39;49m\u001b[39m7\u001b[39;49m, err_msg\u001b[39m=\u001b[39;49m\u001b[39m\"\u001b[39;49m\u001b[39m[FAIL] output is of incorrect value. expected \u001b[39;49m\u001b[39m{}\u001b[39;49;00m\u001b[39m but got \u001b[39;49m\u001b[39m{}\u001b[39;49;00m\u001b[39m\"\u001b[39;49m\u001b[39m.\u001b[39;49mformat(y\u001b[39m.\u001b[39;49mnumpy(), true_y), verbose\u001b[39m=\u001b[39;49m\u001b[39mTrue\u001b[39;49;00m)\n\u001b[0;32m     86\u001b[0m \u001b[39mprint\u001b[39m(\u001b[39m\"\u001b[39m\u001b[39m[PASS] test_custom_dense_layer_output\u001b[39m\u001b[39m\"\u001b[39m)\n\u001b[0;32m     87\u001b[0m \u001b[39mreturn\u001b[39;00m \u001b[39mTrue\u001b[39;00m\n",
      "    \u001b[1;31m[... skipping hidden 2 frame]\u001b[0m\n",
      "File \u001b[1;32mc:\\Users\\zakis\\anaconda3\\envs\\tf1\\lib\\site-packages\\numpy\\testing\\_private\\utils.py:844\u001b[0m, in \u001b[0;36massert_array_compare\u001b[1;34m(comparison, x, y, err_msg, verbose, header, precision, equal_nan, equal_inf)\u001b[0m\n\u001b[0;32m    840\u001b[0m         err_msg \u001b[39m+\u001b[39m\u001b[39m=\u001b[39m \u001b[39m'\u001b[39m\u001b[39m\\n\u001b[39;00m\u001b[39m'\u001b[39m \u001b[39m+\u001b[39m \u001b[39m'\u001b[39m\u001b[39m\\n\u001b[39;00m\u001b[39m'\u001b[39m\u001b[39m.\u001b[39mjoin(remarks)\n\u001b[0;32m    841\u001b[0m         msg \u001b[39m=\u001b[39m build_err_msg([ox, oy], err_msg,\n\u001b[0;32m    842\u001b[0m                             verbose\u001b[39m=\u001b[39mverbose, header\u001b[39m=\u001b[39mheader,\n\u001b[0;32m    843\u001b[0m                             names\u001b[39m=\u001b[39m(\u001b[39m'\u001b[39m\u001b[39mx\u001b[39m\u001b[39m'\u001b[39m, \u001b[39m'\u001b[39m\u001b[39my\u001b[39m\u001b[39m'\u001b[39m), precision\u001b[39m=\u001b[39mprecision)\n\u001b[1;32m--> 844\u001b[0m         \u001b[39mraise\u001b[39;00m \u001b[39mAssertionError\u001b[39;00m(msg)\n\u001b[0;32m    845\u001b[0m \u001b[39mexcept\u001b[39;00m \u001b[39mValueError\u001b[39;00m:\n\u001b[0;32m    846\u001b[0m     \u001b[39mimport\u001b[39;00m \u001b[39mtraceback\u001b[39;00m\n",
      "\u001b[1;31mAssertionError\u001b[0m: \nArrays are not almost equal to 7 decimals\n[FAIL] output is of incorrect value. expected [[0.2697296 0.4574668 0.6653726]] but got [[0.2697859  0.45750418 0.66536945]]\nMismatched elements: 3 / 3 (100%)\nMax absolute difference: 5.6296587e-05\nMax relative difference: 0.00020867\n x: array([[0.2697296, 0.4574668, 0.6653726]], dtype=float32)\n y: array([[0.2697859, 0.4575042, 0.6653695]], dtype=float32)"
     ]
    }
   ],
   "source": [
    "class ourDenseLayer(tf.keras.layers.Layer):\n",
    "    def __init__(self, n_output_nodes):\n",
    "        super(ourDenseLayer, self).__init__()\n",
    "        self.n_output_nodes = n_output_nodes\n",
    "    \n",
    "    def build(self, input_shape):\n",
    "        d = int(input_shape[-1])\n",
    "        self.weight = self.add_weight(\"weight\", shape=[d, self.n_output_nodes])\n",
    "        self.bias = self.add_weight(\"bias\", shape=[1, self.n_output_nodes])\n",
    "\n",
    "    def call(self, x):\n",
    "        z = tf.add(tf.matmul(x, self.weight), self.bias)\n",
    "        y = tf.sigmoid(z)\n",
    "        return y\n",
    "\n",
    "tf.random.set_seed(1)\n",
    "layer = ourDenseLayer(3)\n",
    "layer.build((1,2))\n",
    "x_input = tf.constant([[1,2.]], shape=(1,2))\n",
    "y = layer.call(x_input)\n",
    "\n",
    "print(y.numpy())\n",
    "mdl.lab1.test_custom_dense_layer_output(y) # only differ from 0.0000*"
   ]
  },
  {
   "cell_type": "code",
   "execution_count": 32,
   "metadata": {},
   "outputs": [],
   "source": [
    "# defining NN using sequential API\n",
    "\n",
    "from tensorflow.keras import Sequential\n",
    "from tensorflow.keras.layers import Dense\n",
    "\n",
    "n_output_nodes = 3\n",
    "model = Sequential()\n",
    "\n",
    "\n",
    "dense_layer = Dense(n_output_nodes, activation='sigmoid', use_bias=True)\n",
    "model.add(dense_layer)"
   ]
  },
  {
   "cell_type": "code",
   "execution_count": 33,
   "metadata": {},
   "outputs": [
    {
     "name": "stdout",
     "output_type": "stream",
     "text": [
      "WARNING:tensorflow:5 out of the last 5 calls to <function Model.make_predict_function.<locals>.predict_function at 0x0000023CA0E7F490> triggered tf.function retracing. Tracing is expensive and the excessive number of tracings could be due to (1) creating @tf.function repeatedly in a loop, (2) passing tensors with different shapes, (3) passing Python objects instead of tensors. For (1), please define your @tf.function outside of the loop. For (2), @tf.function has reduce_retracing=True option that can avoid unnecessary retracing. For (3), please refer to https://www.tensorflow.org/guide/function#controlling_retracing and https://www.tensorflow.org/api_docs/python/tf/function for  more details.\n",
      "1/1 [==============================] - 0s 39ms/step\n",
      "[[0.9139073  0.32680833 0.83922404]]\n"
     ]
    }
   ],
   "source": [
    "x_input = tf.constant([[1,2.]], shape=(1,2))\n",
    "\n",
    "model_output = model.predict(x_input)\n",
    "print(model_output)"
   ]
  },
  {
   "cell_type": "code",
   "execution_count": 35,
   "metadata": {},
   "outputs": [],
   "source": [
    "from tensorflow.keras import Model\n",
    "from tensorflow.keras.layers import Dense\n",
    "\n",
    "class SubClassModel(tf.keras.Model):\n",
    "    def __init__(self, n_output_nodes):\n",
    "        super(SubClassModel, self).__init__()\n",
    "        self.dense_layer = Dense(n_output_nodes, activation='sigmoid', use_bias=True)\n",
    "\n",
    "    def call(self, inputs):\n",
    "        return self.dense_layer(inputs)"
   ]
  },
  {
   "cell_type": "code",
   "execution_count": 36,
   "metadata": {},
   "outputs": [
    {
     "name": "stdout",
     "output_type": "stream",
     "text": [
      "tf.Tensor([[0.25837278 0.49682617 0.449808  ]], shape=(1, 3), dtype=float32)\n"
     ]
    }
   ],
   "source": [
    "n_output_nodes = 3\n",
    "model = SubClassModel(n_output_nodes)\n",
    "x_input = tf.constant([[1,2.]], shape=(1,2))\n",
    "print(model.call(x_input))"
   ]
  },
  {
   "cell_type": "code",
   "execution_count": 37,
   "metadata": {},
   "outputs": [],
   "source": [
    "# define model using subclassing and specifying custom behavior\n",
    "\n",
    "from tensorflow.keras import Model\n",
    "from tensorflow.keras.layers import Dense\n",
    "\n",
    "class Identity(tf.keras.Model):\n",
    "    def __init__(self, n_output_nodes):\n",
    "        super(Identity, self).__init__()\n",
    "        self.dense_layer = Dense(n_output_nodes, activation='sigmoid', use_bias=True)\n",
    "\n",
    "    def call(self, inputs):\n",
    "        x = self.dense_layer(inputs)\n",
    "        y = tf.identity(x)\n",
    "        return x, y"
   ]
  },
  {
   "cell_type": "code",
   "execution_count": 47,
   "metadata": {},
   "outputs": [
    {
     "name": "stdout",
     "output_type": "stream",
     "text": [
      "Network output with activation: 0.07463503628969193; network identity output: 0.7021217346191406\n"
     ]
    }
   ],
   "source": [
    "n_output_nodes = 3\n",
    "model = Identity(n_output_nodes)\n",
    "x_input = tf.constant([[1,2.]], shape=(1,2))\n",
    "\n",
    "output = model.call(x_input)\n",
    "out_activate = output[0][0]\n",
    "out_identity = output[0][-1]\n",
    "\n",
    "print(\"Network output with activation: {}; network identity output: {}\".format(out_activate.numpy(), out_identity.numpy()))"
   ]
  },
  {
   "cell_type": "markdown",
   "metadata": {},
   "source": [
    "# 3. Automatic Differentiation with Tensorflow"
   ]
  },
  {
   "cell_type": "code",
   "execution_count": 49,
   "metadata": {},
   "outputs": [],
   "source": [
    "# let be y = x^2\n",
    "# x = 3.0\n",
    "\n",
    "x = tf.Variable(3.0)\n",
    "\n",
    "with tf.GradientTape() as tape:\n",
    "    y = x*x\n",
    "    dy_dx = tape.gradient(y, x)\n",
    "\n",
    "assert dy_dx.numpy() == 6.0"
   ]
  },
  {
   "cell_type": "code",
   "execution_count": 50,
   "metadata": {},
   "outputs": [
    {
     "name": "stdout",
     "output_type": "stream",
     "text": [
      "initializing x: [1.7451856]\n"
     ]
    }
   ],
   "source": [
    "# function minimization with differentiation and SGD\n",
    "\n",
    "# x is a random value\n",
    "x = tf.Variable(tf.random.normal([1]))\n",
    "print(\"initializing x: {}\".format(x.numpy()))\n",
    "\n",
    "learning_rate = 1e-2\n",
    "history = []\n",
    "\n",
    "# target value\n",
    "x_f = 4"
   ]
  },
  {
   "cell_type": "code",
   "execution_count": 60,
   "metadata": {},
   "outputs": [
    {
     "data": {
      "text/plain": [
       "Text(0, 0.5, 'x value')"
      ]
     },
     "execution_count": 60,
     "metadata": {},
     "output_type": "execute_result"
    },
    {
     "data": {
      "image/png": "[encoded data removed]",
      "text/plain": [
       "<Figure size 432x288 with 1 Axes>"
      ]
     },
     "metadata": {
      "needs_background": "light"
     },
     "output_type": "display_data"
    }
   ],
   "source": [
    "for i in range(500):\n",
    "  with tf.GradientTape() as tape:\n",
    "    '''TODO: define the loss as described above'''\n",
    "    loss =  (x-x_f)**2\n",
    "\n",
    "  # loss minimization using gradient tape\n",
    "  grad = tape.gradient(loss, x) # compute the derivative of the loss with respect to x\n",
    "  new_x = x - learning_rate*grad # sgd update\n",
    "  x.assign(new_x) # update the value of x\n",
    "  history.append(x.numpy()[0])\n",
    "\n",
    "# Plot the evolution of x as we optimize towards x_f!\n",
    "plt.plot(history)\n",
    "plt.plot([0, 500],[x_f,x_f])\n",
    "plt.legend(('Predicted', 'True'))\n",
    "plt.xlabel('Iteration')\n",
    "plt.ylabel('x value')"
   ]
  },
  {
   "cell_type": "code",
   "execution_count": null,
   "metadata": {},
   "outputs": [],
   "source": []
  }
 ],
 "metadata": {
  "kernelspec": {
   "display_name": "Python 3.10.4 ('tf1')",
   "language": "python",
   "name": "python3"
  },
  "language_info": {
   "codemirror_mode": {
    "name": "ipython",
    "version": 3
   },
   "file_extension": ".py",
   "mimetype": "text/x-python",
   "name": "python",
   "nbconvert_exporter": "python",
   "pygments_lexer": "ipython3",
   "version": "3.10.4"
  },
  "orig_nbformat": 4,
  "vscode": {
   "interpreter": {
    "hash": "e5d47089378e6e18d5e41b4ec5dc5221a0b09d5a84cf9a8c4af6a05ce24c8606"
   }
  }
 },
 "nbformat": 4,
 "nbformat_minor": 2
}
