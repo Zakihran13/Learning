{
 "cells": [
  {
   "cell_type": "code",
   "execution_count": 1,
   "metadata": {},
   "outputs": [],
   "source": [
    "import tensorflow as tf\n",
    "import mitdeeplearning as mdl\n",
    "import numpy as np\n",
    "import os\n",
    "import time\n",
    "import functools\n",
    "from IPython import display as ipydisplay\n",
    "from tqdm import tqdm"
   ]
  },
  {
   "cell_type": "code",
   "execution_count": 2,
   "metadata": {},
   "outputs": [],
   "source": [
    "assert len(tf.config.list_logical_devices('GPU')) > 0"
   ]
  },
  {
   "cell_type": "code",
   "execution_count": 3,
   "metadata": {},
   "outputs": [
    {
     "name": "stdout",
     "output_type": "stream",
     "text": [
      "WARNING:tensorflow:From C:\\Users\\zakis\\AppData\\Local\\Temp\\ipykernel_14292\\337460670.py:1: is_gpu_available (from tensorflow.python.framework.test_util) is deprecated and will be removed in a future version.\n",
      "Instructions for updating:\n",
      "Use `tf.config.list_physical_devices('GPU')` instead.\n"
     ]
    },
    {
     "data": {
      "text/plain": [
       "True"
      ]
     },
     "execution_count": 3,
     "metadata": {},
     "output_type": "execute_result"
    }
   ],
   "source": [
    "tf.test.is_gpu_available()"
   ]
  },
  {
   "cell_type": "markdown",
   "metadata": {},
   "source": [
    "# 1. Downloading Dataset"
   ]
  },
  {
   "cell_type": "code",
   "execution_count": 4,
   "metadata": {},
   "outputs": [
    {
     "name": "stdout",
     "output_type": "stream",
     "text": [
      "Found 817 songs in text\n",
      "\n",
      "Example song: \n",
      "X:1\n",
      "T:Alexander's\n",
      "Z: id:dc-hornpipe-1\n",
      "M:C|\n",
      "L:1/8\n",
      "K:D Major\n",
      "(3ABc|dAFA DFAd|fdcd FAdf|gfge fefd|(3efe (3dcB A2 (3ABc|!\n",
      "dAFA DFAd|fdcd FAdf|gfge fefd|(3efe dc d2:|!\n",
      "AG|FAdA FAdA|GBdB GBdB|Acec Acec|dfaf gecA|!\n",
      "FAdA FAdA|GBdB GBdB|Aceg fefd|(3efe dc d2:|!\n"
     ]
    }
   ],
   "source": [
    "songs = mdl.lab1.load_training_data()\n",
    "\n",
    "example_song = songs[0]\n",
    "print(\"\\nExample song: \")\n",
    "print(example_song)"
   ]
  },
  {
   "cell_type": "code",
   "execution_count": 5,
   "metadata": {},
   "outputs": [],
   "source": [
    "# convert ABC notation to audio file and listen\n",
    "mdl.lab1.play_song(example_song)"
   ]
  },
  {
   "cell_type": "code",
   "execution_count": 6,
   "metadata": {},
   "outputs": [
    {
     "name": "stdout",
     "output_type": "stream",
     "text": [
      "there are  83  unique char in dataset\n"
     ]
    }
   ],
   "source": [
    "# combine all song string\n",
    "songs_combined = \"\\n\\n\".join(songs)\n",
    "\n",
    "# finding unique character\n",
    "vocab = sorted(set(songs_combined))\n",
    "print(\"there are \", len(vocab), \" unique char in dataset\")"
   ]
  },
  {
   "cell_type": "markdown",
   "metadata": {},
   "source": [
    "# 2. Processing Dataset"
   ]
  },
  {
   "cell_type": "code",
   "execution_count": 7,
   "metadata": {},
   "outputs": [],
   "source": [
    "# create 2 lookup table for numerical representation for dataset\n",
    "\n",
    "# from text to numerical lookup table\n",
    "char2id = {u:i for i, u in enumerate(vocab)}\n",
    "\n",
    "# from numerical to text lookup table\n",
    "id2char = np.array(vocab)"
   ]
  },
  {
   "cell_type": "code",
   "execution_count": 8,
   "metadata": {},
   "outputs": [
    {
     "name": "stdout",
     "output_type": "stream",
     "text": [
      "{\n",
      "  '\\n':   0,\n",
      "  ' ' :   1,\n",
      "  '!' :   2,\n",
      "  '\"' :   3,\n",
      "  '#' :   4,\n",
      "  \"'\" :   5,\n",
      "  '(' :   6,\n",
      "  ')' :   7,\n",
      "  ',' :   8,\n",
      "  '-' :   9,\n",
      "  '.' :  10,\n",
      "  '/' :  11,\n",
      "  '0' :  12,\n",
      "  '1' :  13,\n",
      "  '2' :  14,\n",
      "  '3' :  15,\n",
      "  '4' :  16,\n",
      "  '5' :  17,\n",
      "  '6' :  18,\n",
      "  '7' :  19,\n",
      "  ...\n",
      "}\n"
     ]
    }
   ],
   "source": [
    "# checking table lookup\n",
    "print('{')\n",
    "for char,_ in zip(char2id, range(20)):\n",
    "    print('  {:4s}: {:3d},'.format(repr(char), char2id[char]))\n",
    "print('  ...\\n}')"
   ]
  },
  {
   "cell_type": "code",
   "execution_count": 9,
   "metadata": {},
   "outputs": [],
   "source": [
    "# function to vectorize the song\n",
    "\n",
    "def vectorize_string(song):\n",
    "    char_id = []\n",
    "    for n in song:\n",
    "        char_id.append(char2id[n])\n",
    "\n",
    "    return np.array(char_id)"
   ]
  },
  {
   "cell_type": "code",
   "execution_count": 10,
   "metadata": {},
   "outputs": [],
   "source": [
    "vectorized_songs = vectorize_string(songs_combined)"
   ]
  },
  {
   "cell_type": "code",
   "execution_count": 11,
   "metadata": {},
   "outputs": [
    {
     "name": "stdout",
     "output_type": "stream",
     "text": [
      "'X:1\\nT:Alex' ---- characters mapped to int ----> [49 22 13  0 45 22 26 67 60 79]\n"
     ]
    }
   ],
   "source": [
    "print ('{} ---- characters mapped to int ----> {}'.format(repr(songs_combined[:10]), vectorized_songs[:10]))\n",
    "# check that vectorized_songs is a numpy array\n",
    "assert isinstance(vectorized_songs, np.ndarray), \"returned result should be a numpy array\""
   ]
  },
  {
   "cell_type": "code",
   "execution_count": 12,
   "metadata": {},
   "outputs": [],
   "source": [
    "# batch funct to create training example\n",
    "\n",
    "def get_batch(vectorized_songs, seq_length, batch_size):\n",
    "    length_vectors = vectorized_songs.shape[0] - 1\n",
    "    \n",
    "    # random index for choosing the starting character\n",
    "    # choice(range angka yang mau dipilih, jumlah yang ingin dipilih)\n",
    "    random_index = np.random.choice(length_vectors-seq_length, batch_size)\n",
    "\n",
    "    # the input and output take from random_index, so it uses i instead of value range\n",
    "    # input batch = len(vector) - 1\n",
    "    input_batch = [vectorized_songs[i:i+seq_length] for i in random_index]\n",
    "\n",
    "    # output batch = vector[1:-1]\n",
    "    output_batch = [vectorized_songs[i+1:i+seq_length+1] for i in random_index]\n",
    "\n",
    "    # x_batch and y_batch provide input and output for model\n",
    "    x_batch = np.reshape(input_batch, [batch_size, seq_length])\n",
    "    y_batch = np.reshape(output_batch, [batch_size, seq_length])\n",
    "    \n",
    "    return x_batch, y_batch\n"
   ]
  },
  {
   "cell_type": "code",
   "execution_count": 13,
   "metadata": {},
   "outputs": [
    {
     "name": "stdout",
     "output_type": "stream",
     "text": [
      "[PASS] test_batch_func_types\n",
      "[PASS] test_batch_func_shapes\n",
      "[PASS] test_batch_func_next_step\n",
      "======\n",
      "[PASS] passed all tests!\n"
     ]
    }
   ],
   "source": [
    "# testing input batch function\n",
    "test_args = (vectorized_songs, 10, 2)\n",
    "if not mdl.lab1.test_batch_func_types(get_batch, test_args) or \\\n",
    "   not mdl.lab1.test_batch_func_shapes(get_batch, test_args) or \\\n",
    "   not mdl.lab1.test_batch_func_next_step(get_batch, test_args): \n",
    "   print(\"======\\n[FAIL] could not pass tests\")\n",
    "else: \n",
    "   print(\"======\\n[PASS] passed all tests!\")"
   ]
  },
  {
   "cell_type": "code",
   "execution_count": 14,
   "metadata": {},
   "outputs": [
    {
     "name": "stdout",
     "output_type": "stream",
     "text": [
      "Step   0\n",
      "  input: 32 ('G')\n",
      "  expected output: 27 ('B')\n",
      "Step   1\n",
      "  input: 27 ('B')\n",
      "  expected output: 59 ('d')\n",
      "Step   2\n",
      "  input: 59 ('d')\n",
      "  expected output: 82 ('|')\n",
      "Step   3\n",
      "  input: 82 ('|')\n",
      "  expected output: 60 ('e')\n",
      "Step   4\n",
      "  input: 60 ('e')\n",
      "  expected output: 62 ('g')\n"
     ]
    }
   ],
   "source": [
    "x_batch, y_batch = get_batch(vectorized_songs, seq_length=5, batch_size=1)\n",
    "\n",
    "for i, (input_idx, target_idx) in enumerate(zip(np.squeeze(x_batch), np.squeeze(y_batch))):\n",
    "    print(\"Step {:3d}\".format(i))\n",
    "    print(\"  input: {} ({:s})\".format(input_idx, repr(id2char[input_idx])))\n",
    "    print(\"  expected output: {} ({:s})\".format(target_idx, repr(id2char[target_idx])))"
   ]
  },
  {
   "cell_type": "markdown",
   "metadata": {},
   "source": [
    "# 3. Recurrent Neural Network"
   ]
  },
  {
   "cell_type": "markdown",
   "metadata": {},
   "source": [
    "- the model based on LSTM architecture\n",
    "- model train in batch\n",
    "- output of LSTM then fed to fully connected Dense Layer with softmax activation function\n",
    "- 3 layers that will be use:\n",
    "    1. tf.keras.layers.Embedding : interact as input layer that consist of trainable lookup table (id2char) with embedding_dim dimensions\n",
    "    2. tf.keras.layers.LSTM : network architecture that will be use with size units=rnn_units\n",
    "    3. tf.keras.layers.Dense : interact as output layer with vocab_size outputs"
   ]
  },
  {
   "cell_type": "code",
   "execution_count": 15,
   "metadata": {},
   "outputs": [],
   "source": [
    "# define model\n",
    "\n",
    "def LSTM(rnn_units):\n",
    "    return tf.keras.layers.LSTM(\n",
    "        rnn_units,\n",
    "        return_sequences=True,\n",
    "        recurrent_initializer='glorot_uniform',\n",
    "        recurrent_activation='sigmoid',\n",
    "        stateful=True\n",
    "    )"
   ]
  },
  {
   "cell_type": "code",
   "execution_count": 16,
   "metadata": {},
   "outputs": [],
   "source": [
    "# define RNN model\n",
    "\n",
    "def build_model(vocab_size, embedding_dim, rnn_units, batch_size):\n",
    "    model = tf.keras.Sequential([\n",
    "        tf.keras.layers.Embedding(vocab_size, embedding_dim, batch_input_shape=[batch_size, None]),\n",
    "        LSTM(rnn_units),\n",
    "        tf.keras.layers.Dense(vocab_size, activation='sigmoid')\n",
    "    ])\n",
    "\n",
    "    return model"
   ]
  },
  {
   "cell_type": "code",
   "execution_count": 17,
   "metadata": {},
   "outputs": [],
   "source": [
    "model = build_model(len(vocab), embedding_dim=256, rnn_units=1024, batch_size=32)"
   ]
  },
  {
   "cell_type": "code",
   "execution_count": 18,
   "metadata": {},
   "outputs": [
    {
     "name": "stdout",
     "output_type": "stream",
     "text": [
      "Model: \"sequential\"\n",
      "_________________________________________________________________\n",
      " Layer (type)                Output Shape              Param #   \n",
      "=================================================================\n",
      " embedding (Embedding)       (32, None, 256)           21248     \n",
      "                                                                 \n",
      " lstm (LSTM)                 (32, None, 1024)          5246976   \n",
      "                                                                 \n",
      " dense (Dense)               (32, None, 83)            85075     \n",
      "                                                                 \n",
      "=================================================================\n",
      "Total params: 5,353,299\n",
      "Trainable params: 5,353,299\n",
      "Non-trainable params: 0\n",
      "_________________________________________________________________\n"
     ]
    }
   ],
   "source": [
    "# testing\n",
    "model.summary()"
   ]
  },
  {
   "cell_type": "code",
   "execution_count": 19,
   "metadata": {},
   "outputs": [
    {
     "name": "stdout",
     "output_type": "stream",
     "text": [
      "Input shape:       (32, 100)  # (batch_size, sequence_length)\n",
      "Prediction shape:  (32, 100, 83) # (batch_size, sequence_length, vocab_size)\n"
     ]
    }
   ],
   "source": [
    "x, y = get_batch(vectorized_songs, seq_length=100, batch_size=32)\n",
    "\n",
    "pred = model(x)\n",
    "print(\"Input shape:      \", x.shape, \" # (batch_size, sequence_length)\")\n",
    "print(\"Prediction shape: \", pred.shape, \"# (batch_size, sequence_length, vocab_size)\")"
   ]
  },
  {
   "cell_type": "code",
   "execution_count": 20,
   "metadata": {},
   "outputs": [
    {
     "data": {
      "text/plain": [
       "array([31, 25, 34, 50,  8, 15, 78, 38, 42, 71, 49, 18, 29, 57, 44, 53, 17,\n",
       "       10, 64, 13, 23, 48, 44, 48, 25, 51, 35, 11, 71, 56, 79, 63, 73, 54,\n",
       "       70, 71, 58, 80, 79, 63, 25, 44, 29, 49, 64,  8, 81, 39, 60,  0, 27,\n",
       "       41, 76, 64, 53, 66, 50, 56, 36, 79, 35, 11, 71, 25,  7, 36, 72, 13,\n",
       "       15, 40, 79, 58, 31, 32, 37,  7, 45, 62, 64, 30, 70, 80, 41, 61, 76,\n",
       "       59, 36, 67, 49, 52, 75, 68, 44, 74, 11, 45, 12, 60,  9, 29],\n",
       "      dtype=int64)"
      ]
     },
     "execution_count": 20,
     "metadata": {},
     "output_type": "execute_result"
    }
   ],
   "source": [
    "# untrained model prediction\n",
    "sample_indices = tf.random.categorical(pred[0], num_samples=1)\n",
    "sample_indices = tf.squeeze(sample_indices, axis=1).numpy()\n",
    "sample_indices"
   ]
  },
  {
   "cell_type": "code",
   "execution_count": 21,
   "metadata": {},
   "outputs": [
    {
     "name": "stdout",
     "output_type": "stream",
     "text": [
      "Input: \n",
      " '2BG AGEG|cBcd efge|dBAB G2:|!\\nBd|g2dg egde|g2bg ageg|a2ea fae^g|a2bg agef|!\\ng2dg egde|g2bg aged|cBcd'\n",
      "\n",
      "Next Char Predictions: \n",
      " 'F>IY,3wMQpX6DbS]5.i1<WSW>ZJ/paxhr^opcyxh>SDXi,zNe\\nBPui]kYaKxJ/p>)Kq13OxcFGL)TgiEoyPfudKlX[tmSs/T0e-D'\n"
     ]
    }
   ],
   "source": [
    "print(\"Input: \\n\", repr(\"\".join(id2char[x[0]])))\n",
    "print()\n",
    "print(\"Next Char Predictions: \\n\", repr(\"\".join(id2char[sample_indices])))"
   ]
  },
  {
   "cell_type": "markdown",
   "metadata": {},
   "source": [
    "the resulting text from untrained model is nonsensical"
   ]
  },
  {
   "cell_type": "markdown",
   "metadata": {},
   "source": [
    "# 4. Training Model"
   ]
  },
  {
   "cell_type": "code",
   "execution_count": 22,
   "metadata": {},
   "outputs": [
    {
     "name": "stderr",
     "output_type": "stream",
     "text": [
      "c:\\Users\\zakis\\anaconda3\\envs\\tf1\\lib\\site-packages\\tensorflow\\python\\util\\dispatch.py:1082: UserWarning: \"`sparse_categorical_crossentropy` received `from_logits=True`, but the `output` argument was produced by a sigmoid or softmax activation and thus does not represent logits. Was this intended?\"\n",
      "  return dispatch_target(*args, **kwargs)\n"
     ]
    }
   ],
   "source": [
    "# defining loss function\n",
    "\n",
    "def compute_loss(labels, logits):\n",
    "    loss = tf.keras.losses.sparse_categorical_crossentropy(labels, logits, from_logits=True)\n",
    "    return loss\n",
    "\n",
    "\n",
    "example_batch_loss = compute_loss(y, pred)"
   ]
  },
  {
   "cell_type": "code",
   "execution_count": 23,
   "metadata": {},
   "outputs": [
    {
     "name": "stdout",
     "output_type": "stream",
     "text": [
      "Prediction shape:  (32, 100, 83)  # (batch_size, sequence_length, vocab_size)\n",
      "scalar_loss:       4.4193096\n"
     ]
    }
   ],
   "source": [
    "print(\"Prediction shape: \", pred.shape, \" # (batch_size, sequence_length, vocab_size)\") \n",
    "print(\"scalar_loss:      \", example_batch_loss.numpy().mean())"
   ]
  },
  {
   "cell_type": "code",
   "execution_count": 29,
   "metadata": {},
   "outputs": [],
   "source": [
    "# hyperparameter setting and optimization\n",
    "\n",
    "# optimization parameter\n",
    "number_training_iteration = 2000\n",
    "batch_size = 4\n",
    "seq_length = 100\n",
    "learning_rate = 5e-3\n",
    "\n",
    "# model parameter\n",
    "vocab_size = len(vocab)\n",
    "embedding_dim = 256\n",
    "rnn_units = 1024\n",
    "\n",
    "# checkpoint location\n",
    "checkpoint_dir = \"./training_checkpoints\"\n",
    "checkpoint_prefix = os.path.join(checkpoint_dir, \"my_ckpt\")"
   ]
  },
  {
   "cell_type": "code",
   "execution_count": 39,
   "metadata": {},
   "outputs": [],
   "source": [
    "# define optimizer\n",
    "\n",
    "model = build_model(vocab_size=vocab_size, embedding_dim=embedding_dim, rnn_units=rnn_units, batch_size=batch_size)\n",
    "\n",
    "optimizer = tf.keras.optimizers.Adam(learning_rate)\n",
    "\n",
    "@tf.function\n",
    "def train_step(x, y):\n",
    "    with tf.GradientTape() as tape:\n",
    "        y_hat = model(x)\n",
    "        loss = compute_loss(y, y_hat)\n",
    "    grads = tape.gradient(loss, model.trainable_variables)\n",
    "    optimizer.apply_gradients(zip(grads, model.trainable_variables))\n",
    "    return loss\n",
    "        \n",
    "\n"
   ]
  },
  {
   "cell_type": "code",
   "execution_count": 40,
   "metadata": {},
   "outputs": [],
   "source": [
    "history = []\n",
    "plotter = mdl.util.PeriodicPlotter(sec=2, xlabel='Iteration', ylabel='Loss')\n",
    "\n",
    "if hasattr(tqdm, '_instances'): tqdm._instances.clear()"
   ]
  },
  {
   "cell_type": "code",
   "execution_count": 41,
   "metadata": {},
   "outputs": [
    {
     "data": {
      "image/png": "[encoded data removed]",
      "text/plain": [
       "<Figure size 432x288 with 1 Axes>"
      ]
     },
     "metadata": {},
     "output_type": "display_data"
    },
    {
     "name": "stderr",
     "output_type": "stream",
     "text": [
      "100%|██████████| 2000/2000 [01:26<00:00, 23.25it/s]\n"
     ]
    },
    {
     "data": {
      "image/png": "[encoded data removed]",
      "text/plain": [
       "<Figure size 432x288 with 1 Axes>"
      ]
     },
     "metadata": {
      "needs_background": "light"
     },
     "output_type": "display_data"
    }
   ],
   "source": [
    "for iter in tqdm(range(number_training_iteration)):\n",
    "    # grab batch and propagate\n",
    "    x_batch, y_batch = get_batch(vectorized_songs, seq_length, batch_size)\n",
    "    loss = train_step(x_batch, y_batch)\n",
    "\n",
    "    # update progress\n",
    "    history.append(loss.numpy().mean())\n",
    "    plotter.plot(history)\n",
    "\n",
    "    # updating model\n",
    "    if iter%100 == 0:\n",
    "        model.save_weights(checkpoint_prefix)\n",
    "\n",
    "\n",
    "model.save_weights(checkpoint_prefix)\n"
   ]
  },
  {
   "cell_type": "markdown",
   "metadata": {},
   "source": [
    "# 5. Generate Music"
   ]
  },
  {
   "cell_type": "code",
   "execution_count": 77,
   "metadata": {},
   "outputs": [
    {
     "name": "stdout",
     "output_type": "stream",
     "text": [
      "Model: \"sequential_9\"\n",
      "_________________________________________________________________\n",
      " Layer (type)                Output Shape              Param #   \n",
      "=================================================================\n",
      " embedding_9 (Embedding)     (1, None, 256)            21248     \n",
      "                                                                 \n",
      " lstm_9 (LSTM)               (1, None, 1024)           5246976   \n",
      "                                                                 \n",
      " dense_9 (Dense)             (1, None, 83)             85075     \n",
      "                                                                 \n",
      "=================================================================\n",
      "Total params: 5,353,299\n",
      "Trainable params: 5,353,299\n",
      "Non-trainable params: 0\n",
      "_________________________________________________________________\n"
     ]
    }
   ],
   "source": [
    "# restoring latest checkpoint\n",
    "model = build_model(vocab_size=vocab_size, embedding_dim=embedding_dim, rnn_units=rnn_units, batch_size=1)\n",
    "model.load_weights(tf.train.latest_checkpoint(checkpoint_dir))\n",
    "model.build(tf.TensorShape([1, None]))\n",
    "model.summary()"
   ]
  },
  {
   "cell_type": "markdown",
   "metadata": {},
   "source": [
    "the vocab size, embedding dimension, and rnn units should always be the same as the weights that will be restored"
   ]
  },
  {
   "cell_type": "code",
   "execution_count": 78,
   "metadata": {},
   "outputs": [],
   "source": [
    "# predicting song\n",
    "\n",
    "def generate_text(model, start_string, generation_length=1000):\n",
    "    # evaluating state\n",
    "    input_eval = [char2id[n] for n in start_string]\n",
    "    input_eval = tf.expand_dims(input_eval, 0)\n",
    "\n",
    "    # vectorize state\n",
    "    text_generated = []\n",
    "\n",
    "    model.reset_states()\n",
    "    tqdm._instances.clear()\n",
    "\n",
    "    for i in tqdm(range(generation_length)):\n",
    "        predicts = model(input_eval)\n",
    "\n",
    "        # removing batch dims\n",
    "        predicts = tf.squeeze(predicts, 0)\n",
    "\n",
    "        # turn into multinomial distribution\n",
    "        predicts_id = tf.random.categorical(predicts, num_samples=1)[-1, 0].numpy()\n",
    "        input_eval = tf.expand_dims([predicts_id], 0)\n",
    "        text_generated.append(id2char[predicts_id])\n",
    "    return (start_string + ''.join(text_generated))"
   ]
  },
  {
   "cell_type": "code",
   "execution_count": 79,
   "metadata": {},
   "outputs": [
    {
     "name": "stderr",
     "output_type": "stream",
     "text": [
      "100%|██████████| 1000/1000 [00:04<00:00, 210.57it/s]\n"
     ]
    }
   ],
   "source": [
    "generated_text = generate_text(model, start_string=\"me and \", generation_length=1000)"
   ]
  },
  {
   "cell_type": "code",
   "execution_count": 80,
   "metadata": {},
   "outputs": [
    {
     "name": "stdout",
     "output_type": "stream",
     "text": [
      "Found 1 songs in text\n"
     ]
    }
   ],
   "source": [
    "# playback the music\n",
    "\n",
    "generated_songs = mdl.lab1.extract_song_snippet(generated_text)\n",
    "\n",
    "for i, song in enumerate(generated_songs):\n",
    "    waveform = mdl.lab1.play_song(song)\n",
    "\n",
    "    if waveform:\n",
    "        print('Generated song', i)\n",
    "        ipythondisplay,display(waveform)"
   ]
  },
  {
   "cell_type": "code",
   "execution_count": 81,
   "metadata": {},
   "outputs": [
    {
     "data": {
      "text/plain": [
       "['me and FK P9V=/!K)0d:=C|DP7906N5ZB#QM\"wno0ry2\\n((Fl:):u[vkS9)Q5._Wxbraw:M9y1# K\"idzurgpgrOX_gS6.BH\\'6Lp]rtWhbIvkEC5 AbCFhmiPz426yO\\'\\'-6\\nksD 2PzLdDETS>#fEG9,y NZWT30JEm6,.T5t 1XvfTp5C)pxnt^b\\'ClgABhZ]YvF#drsHDJ.c\\nX7 sGmbD^1P\\'qQi3t|VyUgMbts\\'f<5:uY9 q0 8ppkG3[4bj)[17r\\na\"om:EPX OG]38bo\\'jW|vegBI9UtydZz0PW3CL:eDq0pAdSBfjLpBf9nKCc(qv]LKjmhbyI5cE|qG<FGRzD78']"
      ]
     },
     "execution_count": 81,
     "metadata": {},
     "output_type": "execute_result"
    }
   ],
   "source": [
    "generated_songs"
   ]
  },
  {
   "cell_type": "code",
   "execution_count": null,
   "metadata": {},
   "outputs": [],
   "source": []
  }
 ],
 "metadata": {
  "kernelspec": {
   "display_name": "Python 3.10.4 ('tf1')",
   "language": "python",
   "name": "python3"
  },
  "language_info": {
   "codemirror_mode": {
    "name": "ipython",
    "version": 3
   },
   "file_extension": ".py",
   "mimetype": "text/x-python",
   "name": "python",
   "nbconvert_exporter": "python",
   "pygments_lexer": "ipython3",
   "version": "3.10.4"
  },
  "orig_nbformat": 4,
  "vscode": {
   "interpreter": {
    "hash": "e5d47089378e6e18d5e41b4ec5dc5221a0b09d5a84cf9a8c4af6a05ce24c8606"
   }
  }
 },
 "nbformat": 4,
 "nbformat_minor": 2
}
